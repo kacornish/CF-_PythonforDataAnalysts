{
 "cells": [
  {
   "cell_type": "markdown",
   "id": "aa221e47",
   "metadata": {},
   "source": [
    "#  4.9  -  Intro to Data Visualization with Python - Task pt1"
   ]
  },
  {
   "cell_type": "code",
   "execution_count": 1,
   "id": "99bbcd87",
   "metadata": {},
   "outputs": [],
   "source": [
    "#  Import libraries\n",
    "\n",
    "import numpy as np\n",
    "import pandas as pd\n",
    "import os\n",
    "import matplotlib.pyplot as plt\n",
    "import seaborn as sns\n",
    "import scipy"
   ]
  },
  {
   "cell_type": "code",
   "execution_count": 2,
   "id": "40b38c18",
   "metadata": {},
   "outputs": [],
   "source": [
    "# Paths to/from project folder\n",
    "\n",
    "path_orig = r'C:\\Users\\kacor\\CareerFoundry-Python\\PROJECT - Instacart Basket Analysis\\02 Data\\Original Data'\n",
    "path_prep = r'C:\\Users\\kacor\\CareerFoundry-Python\\PROJECT - Instacart Basket Analysis\\02 Data\\Prepared Data'\n",
    "path_vis = r'C:\\Users\\kacor\\CareerFoundry-Python\\PROJECT - Instacart Basket Analysis\\04 Analysis\\Visualizations'"
   ]
  },
  {
   "cell_type": "code",
   "execution_count": 3,
   "id": "213b8b00",
   "metadata": {},
   "outputs": [],
   "source": [
    "#  Import new original customers dataset\n",
    "\n",
    "df_customers = pd.read_csv(os.path.join(path_orig, 'customers.csv'))"
   ]
  },
  {
   "cell_type": "code",
   "execution_count": null,
   "id": "3bdfe5a9",
   "metadata": {},
   "outputs": [],
   "source": []
  },
  {
   "cell_type": "markdown",
   "id": "71fb4cad",
   "metadata": {},
   "source": [
    "####  4. Wrangle the data so that it follows consistent logic; for example, rename columns with illogical names and drop columns that don’t add anything to your analysis."
   ]
  },
  {
   "cell_type": "markdown",
   "id": "5160ce93",
   "metadata": {},
   "source": [
    "##  STEP 1, ACCESS THE df_customers DATA"
   ]
  },
  {
   "cell_type": "code",
   "execution_count": 4,
   "id": "f83d9afc",
   "metadata": {},
   "outputs": [
    {
     "data": {
      "text/plain": [
       "(206209, 10)"
      ]
     },
     "execution_count": 4,
     "metadata": {},
     "output_type": "execute_result"
    }
   ],
   "source": [
    "df_customers.shape"
   ]
  },
  {
   "cell_type": "code",
   "execution_count": 5,
   "id": "8ee275c3",
   "metadata": {},
   "outputs": [
    {
     "name": "stdout",
     "output_type": "stream",
     "text": [
      "<class 'pandas.core.frame.DataFrame'>\n",
      "RangeIndex: 206209 entries, 0 to 206208\n",
      "Data columns (total 10 columns):\n",
      " #   Column        Non-Null Count   Dtype \n",
      "---  ------        --------------   ----- \n",
      " 0   user_id       206209 non-null  int64 \n",
      " 1   First Name    194950 non-null  object\n",
      " 2   Surnam        206209 non-null  object\n",
      " 3   Gender        206209 non-null  object\n",
      " 4   STATE         206209 non-null  object\n",
      " 5   Age           206209 non-null  int64 \n",
      " 6   date_joined   206209 non-null  object\n",
      " 7   n_dependants  206209 non-null  int64 \n",
      " 8   fam_status    206209 non-null  object\n",
      " 9   income        206209 non-null  int64 \n",
      "dtypes: int64(4), object(6)\n",
      "memory usage: 15.7+ MB\n"
     ]
    }
   ],
   "source": [
    "df_customers.info()"
   ]
  },
  {
   "cell_type": "code",
   "execution_count": 6,
   "id": "338d0769",
   "metadata": {},
   "outputs": [
    {
     "data": {
      "text/plain": [
       "user_id             0\n",
       "First Name      11259\n",
       "Surnam              0\n",
       "Gender              0\n",
       "STATE               0\n",
       "Age                 0\n",
       "date_joined         0\n",
       "n_dependants        0\n",
       "fam_status          0\n",
       "income              0\n",
       "dtype: int64"
      ]
     },
     "execution_count": 6,
     "metadata": {},
     "output_type": "execute_result"
    }
   ],
   "source": [
    "df_customers.isnull().sum()"
   ]
  },
  {
   "cell_type": "code",
   "execution_count": 7,
   "id": "ab411890",
   "metadata": {},
   "outputs": [
    {
     "data": {
      "text/html": [
       "<div>\n",
       "<style scoped>\n",
       "    .dataframe tbody tr th:only-of-type {\n",
       "        vertical-align: middle;\n",
       "    }\n",
       "\n",
       "    .dataframe tbody tr th {\n",
       "        vertical-align: top;\n",
       "    }\n",
       "\n",
       "    .dataframe thead th {\n",
       "        text-align: right;\n",
       "    }\n",
       "</style>\n",
       "<table border=\"1\" class=\"dataframe\">\n",
       "  <thead>\n",
       "    <tr style=\"text-align: right;\">\n",
       "      <th></th>\n",
       "      <th>user_id</th>\n",
       "      <th>First Name</th>\n",
       "      <th>Surnam</th>\n",
       "      <th>Gender</th>\n",
       "      <th>STATE</th>\n",
       "      <th>Age</th>\n",
       "      <th>date_joined</th>\n",
       "      <th>n_dependants</th>\n",
       "      <th>fam_status</th>\n",
       "      <th>income</th>\n",
       "    </tr>\n",
       "  </thead>\n",
       "  <tbody>\n",
       "  </tbody>\n",
       "</table>\n",
       "</div>"
      ],
      "text/plain": [
       "Empty DataFrame\n",
       "Columns: [user_id, First Name, Surnam, Gender, STATE, Age, date_joined, n_dependants, fam_status, income]\n",
       "Index: []"
      ]
     },
     "execution_count": 7,
     "metadata": {},
     "output_type": "execute_result"
    }
   ],
   "source": [
    "df_dups = df_customers[df_customers.duplicated()]\n",
    "df_dups"
   ]
  },
  {
   "cell_type": "markdown",
   "id": "a95d3b66",
   "metadata": {},
   "source": [
    "OBSERVATION\n",
    "-  Change date joined data type to datetime\n",
    "-  Change income data type to float\n",
    "-  There are missing values in the first name column. This column will be deleted later for data security reasons\n",
    "-  There are no duplicates"
   ]
  },
  {
   "cell_type": "code",
   "execution_count": 8,
   "id": "2faad09e",
   "metadata": {},
   "outputs": [
    {
     "data": {
      "text/html": [
       "<div>\n",
       "<style scoped>\n",
       "    .dataframe tbody tr th:only-of-type {\n",
       "        vertical-align: middle;\n",
       "    }\n",
       "\n",
       "    .dataframe tbody tr th {\n",
       "        vertical-align: top;\n",
       "    }\n",
       "\n",
       "    .dataframe thead th {\n",
       "        text-align: right;\n",
       "    }\n",
       "</style>\n",
       "<table border=\"1\" class=\"dataframe\">\n",
       "  <thead>\n",
       "    <tr style=\"text-align: right;\">\n",
       "      <th></th>\n",
       "      <th>user_id</th>\n",
       "      <th>First Name</th>\n",
       "      <th>Surnam</th>\n",
       "      <th>Gender</th>\n",
       "      <th>STATE</th>\n",
       "      <th>Age</th>\n",
       "      <th>date_joined</th>\n",
       "      <th>n_dependants</th>\n",
       "      <th>fam_status</th>\n",
       "      <th>income</th>\n",
       "    </tr>\n",
       "  </thead>\n",
       "  <tbody>\n",
       "    <tr>\n",
       "      <th>0</th>\n",
       "      <td>26711</td>\n",
       "      <td>Deborah</td>\n",
       "      <td>Esquivel</td>\n",
       "      <td>Female</td>\n",
       "      <td>Missouri</td>\n",
       "      <td>48</td>\n",
       "      <td>1/1/2017</td>\n",
       "      <td>3</td>\n",
       "      <td>married</td>\n",
       "      <td>165665</td>\n",
       "    </tr>\n",
       "    <tr>\n",
       "      <th>1</th>\n",
       "      <td>33890</td>\n",
       "      <td>Patricia</td>\n",
       "      <td>Hart</td>\n",
       "      <td>Female</td>\n",
       "      <td>New Mexico</td>\n",
       "      <td>36</td>\n",
       "      <td>1/1/2017</td>\n",
       "      <td>0</td>\n",
       "      <td>single</td>\n",
       "      <td>59285</td>\n",
       "    </tr>\n",
       "    <tr>\n",
       "      <th>2</th>\n",
       "      <td>65803</td>\n",
       "      <td>Kenneth</td>\n",
       "      <td>Farley</td>\n",
       "      <td>Male</td>\n",
       "      <td>Idaho</td>\n",
       "      <td>35</td>\n",
       "      <td>1/1/2017</td>\n",
       "      <td>2</td>\n",
       "      <td>married</td>\n",
       "      <td>99568</td>\n",
       "    </tr>\n",
       "    <tr>\n",
       "      <th>3</th>\n",
       "      <td>125935</td>\n",
       "      <td>Michelle</td>\n",
       "      <td>Hicks</td>\n",
       "      <td>Female</td>\n",
       "      <td>Iowa</td>\n",
       "      <td>40</td>\n",
       "      <td>1/1/2017</td>\n",
       "      <td>0</td>\n",
       "      <td>single</td>\n",
       "      <td>42049</td>\n",
       "    </tr>\n",
       "    <tr>\n",
       "      <th>4</th>\n",
       "      <td>130797</td>\n",
       "      <td>Ann</td>\n",
       "      <td>Gilmore</td>\n",
       "      <td>Female</td>\n",
       "      <td>Maryland</td>\n",
       "      <td>26</td>\n",
       "      <td>1/1/2017</td>\n",
       "      <td>1</td>\n",
       "      <td>married</td>\n",
       "      <td>40374</td>\n",
       "    </tr>\n",
       "  </tbody>\n",
       "</table>\n",
       "</div>"
      ],
      "text/plain": [
       "   user_id First Name    Surnam  Gender       STATE  Age date_joined  \\\n",
       "0    26711    Deborah  Esquivel  Female    Missouri   48    1/1/2017   \n",
       "1    33890   Patricia      Hart  Female  New Mexico   36    1/1/2017   \n",
       "2    65803    Kenneth    Farley    Male       Idaho   35    1/1/2017   \n",
       "3   125935   Michelle     Hicks  Female        Iowa   40    1/1/2017   \n",
       "4   130797        Ann   Gilmore  Female    Maryland   26    1/1/2017   \n",
       "\n",
       "   n_dependants fam_status  income  \n",
       "0             3    married  165665  \n",
       "1             0     single   59285  \n",
       "2             2    married   99568  \n",
       "3             0     single   42049  \n",
       "4             1    married   40374  "
      ]
     },
     "execution_count": 8,
     "metadata": {},
     "output_type": "execute_result"
    }
   ],
   "source": [
    "df_customers.head()"
   ]
  },
  {
   "cell_type": "markdown",
   "id": "5da7bae0",
   "metadata": {},
   "source": [
    "OBSERVATION\n",
    "-  Many of the column names should be standardized and/or renamed to be more clear"
   ]
  },
  {
   "cell_type": "code",
   "execution_count": 9,
   "id": "9feb72b6",
   "metadata": {},
   "outputs": [
    {
     "data": {
      "text/html": [
       "<div>\n",
       "<style scoped>\n",
       "    .dataframe tbody tr th:only-of-type {\n",
       "        vertical-align: middle;\n",
       "    }\n",
       "\n",
       "    .dataframe tbody tr th {\n",
       "        vertical-align: top;\n",
       "    }\n",
       "\n",
       "    .dataframe thead th {\n",
       "        text-align: right;\n",
       "    }\n",
       "</style>\n",
       "<table border=\"1\" class=\"dataframe\">\n",
       "  <thead>\n",
       "    <tr style=\"text-align: right;\">\n",
       "      <th></th>\n",
       "      <th>user_id</th>\n",
       "      <th>First Name</th>\n",
       "      <th>Surnam</th>\n",
       "      <th>Gender</th>\n",
       "      <th>STATE</th>\n",
       "      <th>Age</th>\n",
       "      <th>date_joined</th>\n",
       "      <th>n_dependants</th>\n",
       "      <th>fam_status</th>\n",
       "      <th>income</th>\n",
       "    </tr>\n",
       "  </thead>\n",
       "  <tbody>\n",
       "    <tr>\n",
       "      <th>206204</th>\n",
       "      <td>168073</td>\n",
       "      <td>Lisa</td>\n",
       "      <td>Case</td>\n",
       "      <td>Female</td>\n",
       "      <td>North Carolina</td>\n",
       "      <td>44</td>\n",
       "      <td>4/1/2020</td>\n",
       "      <td>1</td>\n",
       "      <td>married</td>\n",
       "      <td>148828</td>\n",
       "    </tr>\n",
       "    <tr>\n",
       "      <th>206205</th>\n",
       "      <td>49635</td>\n",
       "      <td>Jeremy</td>\n",
       "      <td>Robbins</td>\n",
       "      <td>Male</td>\n",
       "      <td>Hawaii</td>\n",
       "      <td>62</td>\n",
       "      <td>4/1/2020</td>\n",
       "      <td>3</td>\n",
       "      <td>married</td>\n",
       "      <td>168639</td>\n",
       "    </tr>\n",
       "    <tr>\n",
       "      <th>206206</th>\n",
       "      <td>135902</td>\n",
       "      <td>Doris</td>\n",
       "      <td>Richmond</td>\n",
       "      <td>Female</td>\n",
       "      <td>Missouri</td>\n",
       "      <td>66</td>\n",
       "      <td>4/1/2020</td>\n",
       "      <td>2</td>\n",
       "      <td>married</td>\n",
       "      <td>53374</td>\n",
       "    </tr>\n",
       "    <tr>\n",
       "      <th>206207</th>\n",
       "      <td>81095</td>\n",
       "      <td>Rose</td>\n",
       "      <td>Rollins</td>\n",
       "      <td>Female</td>\n",
       "      <td>California</td>\n",
       "      <td>27</td>\n",
       "      <td>4/1/2020</td>\n",
       "      <td>1</td>\n",
       "      <td>married</td>\n",
       "      <td>99799</td>\n",
       "    </tr>\n",
       "    <tr>\n",
       "      <th>206208</th>\n",
       "      <td>80148</td>\n",
       "      <td>Cynthia</td>\n",
       "      <td>Noble</td>\n",
       "      <td>Female</td>\n",
       "      <td>New York</td>\n",
       "      <td>55</td>\n",
       "      <td>4/1/2020</td>\n",
       "      <td>1</td>\n",
       "      <td>married</td>\n",
       "      <td>57095</td>\n",
       "    </tr>\n",
       "  </tbody>\n",
       "</table>\n",
       "</div>"
      ],
      "text/plain": [
       "        user_id First Name    Surnam  Gender           STATE  Age date_joined  \\\n",
       "206204   168073       Lisa      Case  Female  North Carolina   44    4/1/2020   \n",
       "206205    49635     Jeremy   Robbins    Male          Hawaii   62    4/1/2020   \n",
       "206206   135902      Doris  Richmond  Female        Missouri   66    4/1/2020   \n",
       "206207    81095       Rose   Rollins  Female      California   27    4/1/2020   \n",
       "206208    80148    Cynthia     Noble  Female        New York   55    4/1/2020   \n",
       "\n",
       "        n_dependants fam_status  income  \n",
       "206204             1    married  148828  \n",
       "206205             3    married  168639  \n",
       "206206             2    married   53374  \n",
       "206207             1    married   99799  \n",
       "206208             1    married   57095  "
      ]
     },
     "execution_count": 9,
     "metadata": {},
     "output_type": "execute_result"
    }
   ],
   "source": [
    "df_customers.tail()"
   ]
  },
  {
   "cell_type": "code",
   "execution_count": 10,
   "id": "fa0edc8e",
   "metadata": {},
   "outputs": [
    {
     "data": {
      "text/html": [
       "<div>\n",
       "<style scoped>\n",
       "    .dataframe tbody tr th:only-of-type {\n",
       "        vertical-align: middle;\n",
       "    }\n",
       "\n",
       "    .dataframe tbody tr th {\n",
       "        vertical-align: top;\n",
       "    }\n",
       "\n",
       "    .dataframe thead th {\n",
       "        text-align: right;\n",
       "    }\n",
       "</style>\n",
       "<table border=\"1\" class=\"dataframe\">\n",
       "  <thead>\n",
       "    <tr style=\"text-align: right;\">\n",
       "      <th></th>\n",
       "      <th>user_id</th>\n",
       "      <th>First Name</th>\n",
       "      <th>Surnam</th>\n",
       "      <th>Gender</th>\n",
       "      <th>STATE</th>\n",
       "      <th>Age</th>\n",
       "      <th>date_joined</th>\n",
       "      <th>n_dependants</th>\n",
       "      <th>fam_status</th>\n",
       "      <th>income</th>\n",
       "    </tr>\n",
       "  </thead>\n",
       "  <tbody>\n",
       "    <tr>\n",
       "      <th>39935</th>\n",
       "      <td>39924</td>\n",
       "      <td>NaN</td>\n",
       "      <td>Williamson</td>\n",
       "      <td>Female</td>\n",
       "      <td>South Dakota</td>\n",
       "      <td>22</td>\n",
       "      <td>8/19/2017</td>\n",
       "      <td>2</td>\n",
       "      <td>married</td>\n",
       "      <td>43470</td>\n",
       "    </tr>\n",
       "    <tr>\n",
       "      <th>18320</th>\n",
       "      <td>117890</td>\n",
       "      <td>Amanda</td>\n",
       "      <td>Burnett</td>\n",
       "      <td>Female</td>\n",
       "      <td>North Dakota</td>\n",
       "      <td>67</td>\n",
       "      <td>4/16/2017</td>\n",
       "      <td>1</td>\n",
       "      <td>married</td>\n",
       "      <td>34932</td>\n",
       "    </tr>\n",
       "    <tr>\n",
       "      <th>114696</th>\n",
       "      <td>109093</td>\n",
       "      <td>Julia</td>\n",
       "      <td>Knapp</td>\n",
       "      <td>Female</td>\n",
       "      <td>Arkansas</td>\n",
       "      <td>67</td>\n",
       "      <td>10/23/2018</td>\n",
       "      <td>2</td>\n",
       "      <td>married</td>\n",
       "      <td>93238</td>\n",
       "    </tr>\n",
       "    <tr>\n",
       "      <th>184078</th>\n",
       "      <td>26058</td>\n",
       "      <td>Stephanie</td>\n",
       "      <td>Hill</td>\n",
       "      <td>Female</td>\n",
       "      <td>Washington</td>\n",
       "      <td>39</td>\n",
       "      <td>11/26/2019</td>\n",
       "      <td>0</td>\n",
       "      <td>single</td>\n",
       "      <td>57919</td>\n",
       "    </tr>\n",
       "    <tr>\n",
       "      <th>163685</th>\n",
       "      <td>11830</td>\n",
       "      <td>Sarah</td>\n",
       "      <td>Buchanan</td>\n",
       "      <td>Female</td>\n",
       "      <td>West Virginia</td>\n",
       "      <td>55</td>\n",
       "      <td>8/2/2019</td>\n",
       "      <td>3</td>\n",
       "      <td>married</td>\n",
       "      <td>94358</td>\n",
       "    </tr>\n",
       "    <tr>\n",
       "      <th>55898</th>\n",
       "      <td>114193</td>\n",
       "      <td>Jose</td>\n",
       "      <td>Morgan</td>\n",
       "      <td>Male</td>\n",
       "      <td>Arkansas</td>\n",
       "      <td>19</td>\n",
       "      <td>11/18/2017</td>\n",
       "      <td>1</td>\n",
       "      <td>living with parents and siblings</td>\n",
       "      <td>71857</td>\n",
       "    </tr>\n",
       "    <tr>\n",
       "      <th>127689</th>\n",
       "      <td>25823</td>\n",
       "      <td>Ryan</td>\n",
       "      <td>Villalobos</td>\n",
       "      <td>Male</td>\n",
       "      <td>Kansas</td>\n",
       "      <td>66</td>\n",
       "      <td>1/6/2019</td>\n",
       "      <td>3</td>\n",
       "      <td>married</td>\n",
       "      <td>136906</td>\n",
       "    </tr>\n",
       "    <tr>\n",
       "      <th>24913</th>\n",
       "      <td>181217</td>\n",
       "      <td>Peter</td>\n",
       "      <td>Mcguire</td>\n",
       "      <td>Male</td>\n",
       "      <td>Illinois</td>\n",
       "      <td>34</td>\n",
       "      <td>5/24/2017</td>\n",
       "      <td>2</td>\n",
       "      <td>married</td>\n",
       "      <td>54647</td>\n",
       "    </tr>\n",
       "    <tr>\n",
       "      <th>21290</th>\n",
       "      <td>96488</td>\n",
       "      <td>Lillian</td>\n",
       "      <td>Thomas</td>\n",
       "      <td>Female</td>\n",
       "      <td>Virginia</td>\n",
       "      <td>73</td>\n",
       "      <td>5/3/2017</td>\n",
       "      <td>2</td>\n",
       "      <td>married</td>\n",
       "      <td>151047</td>\n",
       "    </tr>\n",
       "    <tr>\n",
       "      <th>4423</th>\n",
       "      <td>98033</td>\n",
       "      <td>Jonathan</td>\n",
       "      <td>Hawkins</td>\n",
       "      <td>Male</td>\n",
       "      <td>Georgia</td>\n",
       "      <td>31</td>\n",
       "      <td>1/26/2017</td>\n",
       "      <td>2</td>\n",
       "      <td>married</td>\n",
       "      <td>68207</td>\n",
       "    </tr>\n",
       "    <tr>\n",
       "      <th>100254</th>\n",
       "      <td>153971</td>\n",
       "      <td>Johnny</td>\n",
       "      <td>Colon</td>\n",
       "      <td>Male</td>\n",
       "      <td>Alaska</td>\n",
       "      <td>56</td>\n",
       "      <td>7/31/2018</td>\n",
       "      <td>3</td>\n",
       "      <td>married</td>\n",
       "      <td>147970</td>\n",
       "    </tr>\n",
       "    <tr>\n",
       "      <th>17371</th>\n",
       "      <td>155259</td>\n",
       "      <td>Ralph</td>\n",
       "      <td>Austin</td>\n",
       "      <td>Male</td>\n",
       "      <td>Indiana</td>\n",
       "      <td>62</td>\n",
       "      <td>4/10/2017</td>\n",
       "      <td>2</td>\n",
       "      <td>married</td>\n",
       "      <td>92128</td>\n",
       "    </tr>\n",
       "    <tr>\n",
       "      <th>54661</th>\n",
       "      <td>159717</td>\n",
       "      <td>Cheryl</td>\n",
       "      <td>Barton</td>\n",
       "      <td>Female</td>\n",
       "      <td>Minnesota</td>\n",
       "      <td>26</td>\n",
       "      <td>11/11/2017</td>\n",
       "      <td>1</td>\n",
       "      <td>married</td>\n",
       "      <td>83070</td>\n",
       "    </tr>\n",
       "    <tr>\n",
       "      <th>195481</th>\n",
       "      <td>143422</td>\n",
       "      <td>Willie</td>\n",
       "      <td>Boyd</td>\n",
       "      <td>Male</td>\n",
       "      <td>Florida</td>\n",
       "      <td>27</td>\n",
       "      <td>2/1/2020</td>\n",
       "      <td>2</td>\n",
       "      <td>married</td>\n",
       "      <td>63224</td>\n",
       "    </tr>\n",
       "    <tr>\n",
       "      <th>54191</th>\n",
       "      <td>180592</td>\n",
       "      <td>Gloria</td>\n",
       "      <td>Bauer</td>\n",
       "      <td>Female</td>\n",
       "      <td>Alabama</td>\n",
       "      <td>49</td>\n",
       "      <td>11/8/2017</td>\n",
       "      <td>1</td>\n",
       "      <td>married</td>\n",
       "      <td>57959</td>\n",
       "    </tr>\n",
       "    <tr>\n",
       "      <th>35722</th>\n",
       "      <td>39750</td>\n",
       "      <td>Russell</td>\n",
       "      <td>Henderson</td>\n",
       "      <td>Male</td>\n",
       "      <td>Montana</td>\n",
       "      <td>36</td>\n",
       "      <td>7/26/2017</td>\n",
       "      <td>0</td>\n",
       "      <td>single</td>\n",
       "      <td>97873</td>\n",
       "    </tr>\n",
       "    <tr>\n",
       "      <th>160962</th>\n",
       "      <td>144199</td>\n",
       "      <td>Ralph</td>\n",
       "      <td>Gillespie</td>\n",
       "      <td>Male</td>\n",
       "      <td>Nebraska</td>\n",
       "      <td>24</td>\n",
       "      <td>7/17/2019</td>\n",
       "      <td>0</td>\n",
       "      <td>single</td>\n",
       "      <td>66818</td>\n",
       "    </tr>\n",
       "    <tr>\n",
       "      <th>195397</th>\n",
       "      <td>65102</td>\n",
       "      <td>Lawrence</td>\n",
       "      <td>David</td>\n",
       "      <td>Male</td>\n",
       "      <td>New Mexico</td>\n",
       "      <td>53</td>\n",
       "      <td>1/31/2020</td>\n",
       "      <td>1</td>\n",
       "      <td>married</td>\n",
       "      <td>87111</td>\n",
       "    </tr>\n",
       "    <tr>\n",
       "      <th>97369</th>\n",
       "      <td>166901</td>\n",
       "      <td>Mark</td>\n",
       "      <td>Decker</td>\n",
       "      <td>Male</td>\n",
       "      <td>North Dakota</td>\n",
       "      <td>50</td>\n",
       "      <td>7/14/2018</td>\n",
       "      <td>1</td>\n",
       "      <td>married</td>\n",
       "      <td>38463</td>\n",
       "    </tr>\n",
       "    <tr>\n",
       "      <th>48215</th>\n",
       "      <td>203727</td>\n",
       "      <td>Evelyn</td>\n",
       "      <td>Sellers</td>\n",
       "      <td>Female</td>\n",
       "      <td>Maryland</td>\n",
       "      <td>53</td>\n",
       "      <td>10/5/2017</td>\n",
       "      <td>1</td>\n",
       "      <td>married</td>\n",
       "      <td>108352</td>\n",
       "    </tr>\n",
       "    <tr>\n",
       "      <th>22105</th>\n",
       "      <td>132466</td>\n",
       "      <td>Andrea</td>\n",
       "      <td>Rosales</td>\n",
       "      <td>Female</td>\n",
       "      <td>Louisiana</td>\n",
       "      <td>21</td>\n",
       "      <td>5/8/2017</td>\n",
       "      <td>1</td>\n",
       "      <td>living with parents and siblings</td>\n",
       "      <td>97934</td>\n",
       "    </tr>\n",
       "    <tr>\n",
       "      <th>84035</th>\n",
       "      <td>136201</td>\n",
       "      <td>Jeremy</td>\n",
       "      <td>Little</td>\n",
       "      <td>Male</td>\n",
       "      <td>Oklahoma</td>\n",
       "      <td>36</td>\n",
       "      <td>4/28/2018</td>\n",
       "      <td>3</td>\n",
       "      <td>married</td>\n",
       "      <td>73105</td>\n",
       "    </tr>\n",
       "    <tr>\n",
       "      <th>86375</th>\n",
       "      <td>101324</td>\n",
       "      <td>Kathy</td>\n",
       "      <td>Avila</td>\n",
       "      <td>Female</td>\n",
       "      <td>Missouri</td>\n",
       "      <td>41</td>\n",
       "      <td>5/11/2018</td>\n",
       "      <td>0</td>\n",
       "      <td>single</td>\n",
       "      <td>102018</td>\n",
       "    </tr>\n",
       "    <tr>\n",
       "      <th>62992</th>\n",
       "      <td>179296</td>\n",
       "      <td>Karen</td>\n",
       "      <td>Berg</td>\n",
       "      <td>Female</td>\n",
       "      <td>Oklahoma</td>\n",
       "      <td>77</td>\n",
       "      <td>12/29/2017</td>\n",
       "      <td>0</td>\n",
       "      <td>divorced/widowed</td>\n",
       "      <td>122011</td>\n",
       "    </tr>\n",
       "    <tr>\n",
       "      <th>133691</th>\n",
       "      <td>35212</td>\n",
       "      <td>Christopher</td>\n",
       "      <td>Barnes</td>\n",
       "      <td>Male</td>\n",
       "      <td>Nebraska</td>\n",
       "      <td>20</td>\n",
       "      <td>2/10/2019</td>\n",
       "      <td>3</td>\n",
       "      <td>living with parents and siblings</td>\n",
       "      <td>45490</td>\n",
       "    </tr>\n",
       "  </tbody>\n",
       "</table>\n",
       "</div>"
      ],
      "text/plain": [
       "        user_id   First Name      Surnam  Gender          STATE  Age  \\\n",
       "39935     39924          NaN  Williamson  Female   South Dakota   22   \n",
       "18320    117890       Amanda     Burnett  Female   North Dakota   67   \n",
       "114696   109093        Julia       Knapp  Female       Arkansas   67   \n",
       "184078    26058    Stephanie        Hill  Female     Washington   39   \n",
       "163685    11830        Sarah    Buchanan  Female  West Virginia   55   \n",
       "55898    114193         Jose      Morgan    Male       Arkansas   19   \n",
       "127689    25823         Ryan  Villalobos    Male         Kansas   66   \n",
       "24913    181217        Peter     Mcguire    Male       Illinois   34   \n",
       "21290     96488      Lillian      Thomas  Female       Virginia   73   \n",
       "4423      98033     Jonathan     Hawkins    Male        Georgia   31   \n",
       "100254   153971       Johnny       Colon    Male         Alaska   56   \n",
       "17371    155259        Ralph      Austin    Male        Indiana   62   \n",
       "54661    159717       Cheryl      Barton  Female      Minnesota   26   \n",
       "195481   143422       Willie        Boyd    Male        Florida   27   \n",
       "54191    180592       Gloria       Bauer  Female        Alabama   49   \n",
       "35722     39750      Russell   Henderson    Male        Montana   36   \n",
       "160962   144199        Ralph   Gillespie    Male       Nebraska   24   \n",
       "195397    65102     Lawrence       David    Male     New Mexico   53   \n",
       "97369    166901         Mark      Decker    Male   North Dakota   50   \n",
       "48215    203727       Evelyn     Sellers  Female       Maryland   53   \n",
       "22105    132466       Andrea     Rosales  Female      Louisiana   21   \n",
       "84035    136201       Jeremy      Little    Male       Oklahoma   36   \n",
       "86375    101324        Kathy       Avila  Female       Missouri   41   \n",
       "62992    179296        Karen        Berg  Female       Oklahoma   77   \n",
       "133691    35212  Christopher      Barnes    Male       Nebraska   20   \n",
       "\n",
       "       date_joined  n_dependants                        fam_status  income  \n",
       "39935    8/19/2017             2                           married   43470  \n",
       "18320    4/16/2017             1                           married   34932  \n",
       "114696  10/23/2018             2                           married   93238  \n",
       "184078  11/26/2019             0                            single   57919  \n",
       "163685    8/2/2019             3                           married   94358  \n",
       "55898   11/18/2017             1  living with parents and siblings   71857  \n",
       "127689    1/6/2019             3                           married  136906  \n",
       "24913    5/24/2017             2                           married   54647  \n",
       "21290     5/3/2017             2                           married  151047  \n",
       "4423     1/26/2017             2                           married   68207  \n",
       "100254   7/31/2018             3                           married  147970  \n",
       "17371    4/10/2017             2                           married   92128  \n",
       "54661   11/11/2017             1                           married   83070  \n",
       "195481    2/1/2020             2                           married   63224  \n",
       "54191    11/8/2017             1                           married   57959  \n",
       "35722    7/26/2017             0                            single   97873  \n",
       "160962   7/17/2019             0                            single   66818  \n",
       "195397   1/31/2020             1                           married   87111  \n",
       "97369    7/14/2018             1                           married   38463  \n",
       "48215    10/5/2017             1                           married  108352  \n",
       "22105     5/8/2017             1  living with parents and siblings   97934  \n",
       "84035    4/28/2018             3                           married   73105  \n",
       "86375    5/11/2018             0                            single  102018  \n",
       "62992   12/29/2017             0                  divorced/widowed  122011  \n",
       "133691   2/10/2019             3  living with parents and siblings   45490  "
      ]
     },
     "execution_count": 10,
     "metadata": {},
     "output_type": "execute_result"
    }
   ],
   "source": [
    "df_customers.sample(25)"
   ]
  },
  {
   "cell_type": "markdown",
   "id": "4a0ad6b6",
   "metadata": {},
   "source": [
    "OBSERVATION\n",
    "-  There are some unexpected statuses in the family status column. Unsure if I will use these"
   ]
  },
  {
   "cell_type": "code",
   "execution_count": 11,
   "id": "489287a9",
   "metadata": {},
   "outputs": [
    {
     "data": {
      "text/html": [
       "<div>\n",
       "<style scoped>\n",
       "    .dataframe tbody tr th:only-of-type {\n",
       "        vertical-align: middle;\n",
       "    }\n",
       "\n",
       "    .dataframe tbody tr th {\n",
       "        vertical-align: top;\n",
       "    }\n",
       "\n",
       "    .dataframe thead th {\n",
       "        text-align: right;\n",
       "    }\n",
       "</style>\n",
       "<table border=\"1\" class=\"dataframe\">\n",
       "  <thead>\n",
       "    <tr style=\"text-align: right;\">\n",
       "      <th></th>\n",
       "      <th>user_id</th>\n",
       "      <th>Age</th>\n",
       "      <th>n_dependants</th>\n",
       "      <th>income</th>\n",
       "    </tr>\n",
       "  </thead>\n",
       "  <tbody>\n",
       "    <tr>\n",
       "      <th>count</th>\n",
       "      <td>206209.000000</td>\n",
       "      <td>206209.000000</td>\n",
       "      <td>206209.000000</td>\n",
       "      <td>206209.000000</td>\n",
       "    </tr>\n",
       "    <tr>\n",
       "      <th>mean</th>\n",
       "      <td>103105.000000</td>\n",
       "      <td>49.501646</td>\n",
       "      <td>1.499823</td>\n",
       "      <td>94632.852548</td>\n",
       "    </tr>\n",
       "    <tr>\n",
       "      <th>std</th>\n",
       "      <td>59527.555167</td>\n",
       "      <td>18.480962</td>\n",
       "      <td>1.118433</td>\n",
       "      <td>42473.786988</td>\n",
       "    </tr>\n",
       "    <tr>\n",
       "      <th>min</th>\n",
       "      <td>1.000000</td>\n",
       "      <td>18.000000</td>\n",
       "      <td>0.000000</td>\n",
       "      <td>25903.000000</td>\n",
       "    </tr>\n",
       "    <tr>\n",
       "      <th>25%</th>\n",
       "      <td>51553.000000</td>\n",
       "      <td>33.000000</td>\n",
       "      <td>0.000000</td>\n",
       "      <td>59874.000000</td>\n",
       "    </tr>\n",
       "    <tr>\n",
       "      <th>50%</th>\n",
       "      <td>103105.000000</td>\n",
       "      <td>49.000000</td>\n",
       "      <td>1.000000</td>\n",
       "      <td>93547.000000</td>\n",
       "    </tr>\n",
       "    <tr>\n",
       "      <th>75%</th>\n",
       "      <td>154657.000000</td>\n",
       "      <td>66.000000</td>\n",
       "      <td>3.000000</td>\n",
       "      <td>124244.000000</td>\n",
       "    </tr>\n",
       "    <tr>\n",
       "      <th>max</th>\n",
       "      <td>206209.000000</td>\n",
       "      <td>81.000000</td>\n",
       "      <td>3.000000</td>\n",
       "      <td>593901.000000</td>\n",
       "    </tr>\n",
       "  </tbody>\n",
       "</table>\n",
       "</div>"
      ],
      "text/plain": [
       "             user_id            Age   n_dependants         income\n",
       "count  206209.000000  206209.000000  206209.000000  206209.000000\n",
       "mean   103105.000000      49.501646       1.499823   94632.852548\n",
       "std     59527.555167      18.480962       1.118433   42473.786988\n",
       "min         1.000000      18.000000       0.000000   25903.000000\n",
       "25%     51553.000000      33.000000       0.000000   59874.000000\n",
       "50%    103105.000000      49.000000       1.000000   93547.000000\n",
       "75%    154657.000000      66.000000       3.000000  124244.000000\n",
       "max    206209.000000      81.000000       3.000000  593901.000000"
      ]
     },
     "execution_count": 11,
     "metadata": {},
     "output_type": "execute_result"
    }
   ],
   "source": [
    "df_customers.describe()"
   ]
  },
  {
   "cell_type": "markdown",
   "id": "2be1f4fe",
   "metadata": {},
   "source": [
    "OBSERVATION\n",
    "-  There do not appear to be any outliers at the low or high range in any of these columns\n",
    "-  The max of 3 in n_dependants seems a bit unusual\n",
    "-  The mean & median of income is higher than I expected, but this is not meant to imply that the data is incorrect"
   ]
  },
  {
   "cell_type": "code",
   "execution_count": 12,
   "id": "9dc3df6b",
   "metadata": {},
   "outputs": [
    {
     "data": {
      "text/plain": [
       "19    3329\n",
       "55    3317\n",
       "51    3317\n",
       "56    3306\n",
       "32    3305\n",
       "      ... \n",
       "65    3145\n",
       "25    3127\n",
       "66    3114\n",
       "50    3102\n",
       "36    3101\n",
       "Name: Age, Length: 64, dtype: int64"
      ]
     },
     "execution_count": 12,
     "metadata": {},
     "output_type": "execute_result"
    }
   ],
   "source": [
    "df_customers['Age'].value_counts()"
   ]
  },
  {
   "cell_type": "code",
   "execution_count": 13,
   "id": "24740bff",
   "metadata": {},
   "outputs": [
    {
     "data": {
      "text/plain": [
       "<AxesSubplot:>"
      ]
     },
     "execution_count": 13,
     "metadata": {},
     "output_type": "execute_result"
    },
    {
     "data": {
      "image/png": "[encoded data removed]",
      "text/plain": [
       "<Figure size 640x480 with 1 Axes>"
      ]
     },
     "metadata": {},
     "output_type": "display_data"
    }
   ],
   "source": [
    "df_customers['Age'].value_counts().sort_index().plot.bar()"
   ]
  },
  {
   "cell_type": "markdown",
   "id": "af41ef77",
   "metadata": {},
   "source": [
    "OBSERVATION\n",
    "-  While this bar chart is very difficult to interpret, one thing it does illustrate is that the number of customers across all ages is fairly uniform between approximately 3100 and 3300."
   ]
  },
  {
   "cell_type": "code",
   "execution_count": 14,
   "id": "041f1301",
   "metadata": {},
   "outputs": [
    {
     "data": {
      "text/plain": [
       "0    51602\n",
       "3    51594\n",
       "1    51531\n",
       "2    51482\n",
       "Name: n_dependants, dtype: int64"
      ]
     },
     "execution_count": 14,
     "metadata": {},
     "output_type": "execute_result"
    }
   ],
   "source": [
    "df_customers['n_dependants'].value_counts()"
   ]
  },
  {
   "cell_type": "markdown",
   "id": "72ef81ea",
   "metadata": {},
   "source": [
    "OBSERVATION\n",
    "-  The number of dependants is nearly evenly split between 0, 1 2, & 3 children"
   ]
  },
  {
   "cell_type": "code",
   "execution_count": 15,
   "id": "bdd78478",
   "metadata": {},
   "outputs": [
    {
     "data": {
      "text/plain": [
       "<AxesSubplot:ylabel='Frequency'>"
      ]
     },
     "execution_count": 15,
     "metadata": {},
     "output_type": "execute_result"
    },
    {
     "data": {
      "image/png": "[encoded data removed]",
      "text/plain": [
       "<Figure size 640x480 with 1 Axes>"
      ]
     },
     "metadata": {},
     "output_type": "display_data"
    }
   ],
   "source": [
    "df_customers['income'].plot.hist(bins = 50)"
   ]
  },
  {
   "cell_type": "code",
   "execution_count": 16,
   "id": "d0ab314d",
   "metadata": {},
   "outputs": [
    {
     "data": {
      "text/plain": [
       "204513    518856\n",
       "129594    521640\n",
       "131449    521807\n",
       "124589    523088\n",
       "129576    524193\n",
       "180894    525892\n",
       "85183     526894\n",
       "152849    528102\n",
       "145552    528184\n",
       "46867     529539\n",
       "100899    531126\n",
       "68108     532201\n",
       "170173    536156\n",
       "91486     539810\n",
       "34899     540239\n",
       "98377     540828\n",
       "109407    543925\n",
       "127232    544217\n",
       "51576     544248\n",
       "121169    544515\n",
       "164664    544896\n",
       "114821    545128\n",
       "30603     549286\n",
       "199982    550917\n",
       "139133    551672\n",
       "181442    551849\n",
       "87566     552776\n",
       "28772     553569\n",
       "147057    556641\n",
       "55980     558033\n",
       "21704     559700\n",
       "51985     562610\n",
       "181171    567729\n",
       "135221    569253\n",
       "122243    569810\n",
       "200774    571932\n",
       "78104     573617\n",
       "70431     573849\n",
       "185582    574425\n",
       "12044     576876\n",
       "2018      577728\n",
       "66262     578251\n",
       "27182     578551\n",
       "98469     579169\n",
       "200450    579397\n",
       "167037    584097\n",
       "111950    590790\n",
       "81583     591089\n",
       "202655    592409\n",
       "21726     593901\n",
       "Name: income, dtype: int64"
      ]
     },
     "execution_count": 16,
     "metadata": {},
     "output_type": "execute_result"
    }
   ],
   "source": [
    "df_customers['income'].sort_values().tail(50)"
   ]
  },
  {
   "cell_type": "markdown",
   "id": "32124a24",
   "metadata": {},
   "source": [
    "OBSERVATION\n",
    "-  The mean and median of income are in the 93,000 to 94,000 dollar range. But there are many high income customers who are outliers extending out to near 600,000"
   ]
  },
  {
   "cell_type": "code",
   "execution_count": 17,
   "id": "5fff04b2",
   "metadata": {},
   "outputs": [
    {
     "data": {
      "text/plain": [
       "married                             144906\n",
       "single                               33962\n",
       "divorced/widowed                     17640\n",
       "living with parents and siblings      9701\n",
       "Name: fam_status, dtype: int64"
      ]
     },
     "execution_count": 17,
     "metadata": {},
     "output_type": "execute_result"
    }
   ],
   "source": [
    "#  Explore the fam_status column\n",
    "\n",
    "df_customers['fam_status'].value_counts()"
   ]
  },
  {
   "cell_type": "markdown",
   "id": "05820671",
   "metadata": {},
   "source": [
    "OBSERVATION\n",
    "-  I am undecided as to whether I will use this information as part of my analysis"
   ]
  },
  {
   "cell_type": "code",
   "execution_count": null,
   "id": "5a8ed502",
   "metadata": {},
   "outputs": [],
   "source": []
  },
  {
   "cell_type": "markdown",
   "id": "ae6666ed",
   "metadata": {},
   "source": [
    "##  STEP 2, CLEAN and TEST\n",
    "\n",
    "DEFINE\n",
    "-  Change the name of several columns:\n",
    "-  First Name to first_name \n",
    "-  Surname to last_name\n",
    "-  Gender to gender\n",
    "-  STATE to state\n",
    "-  Age to age\n",
    "-  n_dependants to number_of_dependants\n",
    "-  fam_status to family_status"
   ]
  },
  {
   "cell_type": "code",
   "execution_count": 18,
   "id": "3c2d1223",
   "metadata": {},
   "outputs": [],
   "source": [
    "##  Make a copy of the df_customers Dataframe\n",
    "\n",
    "df_customers_clean = df_customers.copy()"
   ]
  },
  {
   "cell_type": "code",
   "execution_count": 19,
   "id": "a2e80d1e",
   "metadata": {},
   "outputs": [
    {
     "data": {
      "text/html": [
       "<div>\n",
       "<style scoped>\n",
       "    .dataframe tbody tr th:only-of-type {\n",
       "        vertical-align: middle;\n",
       "    }\n",
       "\n",
       "    .dataframe tbody tr th {\n",
       "        vertical-align: top;\n",
       "    }\n",
       "\n",
       "    .dataframe thead th {\n",
       "        text-align: right;\n",
       "    }\n",
       "</style>\n",
       "<table border=\"1\" class=\"dataframe\">\n",
       "  <thead>\n",
       "    <tr style=\"text-align: right;\">\n",
       "      <th></th>\n",
       "      <th>user_id</th>\n",
       "      <th>First Name</th>\n",
       "      <th>Surnam</th>\n",
       "      <th>Gender</th>\n",
       "      <th>STATE</th>\n",
       "      <th>Age</th>\n",
       "      <th>date_joined</th>\n",
       "      <th>n_dependants</th>\n",
       "      <th>fam_status</th>\n",
       "      <th>income</th>\n",
       "    </tr>\n",
       "  </thead>\n",
       "  <tbody>\n",
       "  </tbody>\n",
       "</table>\n",
       "</div>"
      ],
      "text/plain": [
       "Empty DataFrame\n",
       "Columns: [user_id, First Name, Surnam, Gender, STATE, Age, date_joined, n_dependants, fam_status, income]\n",
       "Index: []"
      ]
     },
     "execution_count": 19,
     "metadata": {},
     "output_type": "execute_result"
    }
   ],
   "source": [
    "####  Column names prior to change\n",
    "\n",
    "df_customers_clean.head(0)"
   ]
  },
  {
   "cell_type": "markdown",
   "id": "bbefe95a",
   "metadata": {},
   "source": [
    "####  CODE"
   ]
  },
  {
   "cell_type": "code",
   "execution_count": 20,
   "id": "47971d41",
   "metadata": {},
   "outputs": [],
   "source": [
    "#  Rename several columns\n",
    "\n",
    "df_customers_clean.columns = ['user_id', 'first_name', 'last_name', 'gender', 'state', 'age', 'date_joined', 'number_of_dependents', 'family_status', 'income']"
   ]
  },
  {
   "cell_type": "markdown",
   "id": "762f6299",
   "metadata": {},
   "source": [
    "####  TEST"
   ]
  },
  {
   "cell_type": "code",
   "execution_count": 21,
   "id": "d14c051d",
   "metadata": {},
   "outputs": [
    {
     "data": {
      "text/html": [
       "<div>\n",
       "<style scoped>\n",
       "    .dataframe tbody tr th:only-of-type {\n",
       "        vertical-align: middle;\n",
       "    }\n",
       "\n",
       "    .dataframe tbody tr th {\n",
       "        vertical-align: top;\n",
       "    }\n",
       "\n",
       "    .dataframe thead th {\n",
       "        text-align: right;\n",
       "    }\n",
       "</style>\n",
       "<table border=\"1\" class=\"dataframe\">\n",
       "  <thead>\n",
       "    <tr style=\"text-align: right;\">\n",
       "      <th></th>\n",
       "      <th>user_id</th>\n",
       "      <th>first_name</th>\n",
       "      <th>last_name</th>\n",
       "      <th>gender</th>\n",
       "      <th>state</th>\n",
       "      <th>age</th>\n",
       "      <th>date_joined</th>\n",
       "      <th>number_of_dependents</th>\n",
       "      <th>family_status</th>\n",
       "      <th>income</th>\n",
       "    </tr>\n",
       "  </thead>\n",
       "  <tbody>\n",
       "  </tbody>\n",
       "</table>\n",
       "</div>"
      ],
      "text/plain": [
       "Empty DataFrame\n",
       "Columns: [user_id, first_name, last_name, gender, state, age, date_joined, number_of_dependents, family_status, income]\n",
       "Index: []"
      ]
     },
     "execution_count": 21,
     "metadata": {},
     "output_type": "execute_result"
    }
   ],
   "source": [
    "#  Confirm column names were changed\n",
    "\n",
    "df_customers_clean.head(0)"
   ]
  },
  {
   "cell_type": "code",
   "execution_count": null,
   "id": "65f12b57",
   "metadata": {},
   "outputs": [],
   "source": []
  },
  {
   "cell_type": "markdown",
   "id": "c128849b",
   "metadata": {},
   "source": [
    "####  DEFINE\n",
    "-  Change date joined data type to datetime\n",
    "-  Change income data type to float"
   ]
  },
  {
   "cell_type": "markdown",
   "id": "e93108c5",
   "metadata": {},
   "source": [
    "####  CODE"
   ]
  },
  {
   "cell_type": "code",
   "execution_count": 22,
   "id": "eb0e0f22",
   "metadata": {},
   "outputs": [],
   "source": [
    "#  Change date joined data type to datetime\n",
    "\n",
    "df_customers_clean['date_joined'] = pd.to_datetime(df_customers_clean['date_joined'])"
   ]
  },
  {
   "cell_type": "code",
   "execution_count": 23,
   "id": "f3fdf63e",
   "metadata": {},
   "outputs": [],
   "source": [
    "#  Change income data type to float\n",
    "\n",
    "df_customers_clean['income'] = df_customers_clean['income'].astype('float32') "
   ]
  },
  {
   "cell_type": "markdown",
   "id": "c89b1659",
   "metadata": {},
   "source": [
    "####  TEST"
   ]
  },
  {
   "cell_type": "code",
   "execution_count": 24,
   "id": "9b04fdcc",
   "metadata": {},
   "outputs": [
    {
     "name": "stdout",
     "output_type": "stream",
     "text": [
      "<class 'pandas.core.frame.DataFrame'>\n",
      "RangeIndex: 206209 entries, 0 to 206208\n",
      "Data columns (total 10 columns):\n",
      " #   Column                Non-Null Count   Dtype         \n",
      "---  ------                --------------   -----         \n",
      " 0   user_id               206209 non-null  int64         \n",
      " 1   first_name            194950 non-null  object        \n",
      " 2   last_name             206209 non-null  object        \n",
      " 3   gender                206209 non-null  object        \n",
      " 4   state                 206209 non-null  object        \n",
      " 5   age                   206209 non-null  int64         \n",
      " 6   date_joined           206209 non-null  datetime64[ns]\n",
      " 7   number_of_dependents  206209 non-null  int64         \n",
      " 8   family_status         206209 non-null  object        \n",
      " 9   income                206209 non-null  float32       \n",
      "dtypes: datetime64[ns](1), float32(1), int64(3), object(5)\n",
      "memory usage: 14.9+ MB\n"
     ]
    }
   ],
   "source": [
    "#  Confirm data types were changed\n",
    "\n",
    "df_customers_clean.info()"
   ]
  },
  {
   "cell_type": "code",
   "execution_count": null,
   "id": "37e2879e",
   "metadata": {},
   "outputs": [],
   "source": []
  },
  {
   "cell_type": "markdown",
   "id": "489e35de",
   "metadata": {},
   "source": [
    "####  Save cleaned customer df to Prepared folder"
   ]
  },
  {
   "cell_type": "code",
   "execution_count": 25,
   "id": "f8cce4b1",
   "metadata": {},
   "outputs": [],
   "source": [
    "#  Export df_customers_clean to Prepared folder in .pkl format  \n",
    "\n",
    "df_customers_clean.to_pickle(os.path.join(path_prep, 'customers_clean_4-9.pkl'))"
   ]
  },
  {
   "cell_type": "code",
   "execution_count": null,
   "id": "f674c2bf",
   "metadata": {},
   "outputs": [],
   "source": []
  },
  {
   "cell_type": "markdown",
   "id": "ca6c207b",
   "metadata": {},
   "source": [
    "##  Prepare to combine customer data with rest of prepared data"
   ]
  },
  {
   "cell_type": "code",
   "execution_count": 26,
   "id": "f5f9fa89",
   "metadata": {},
   "outputs": [],
   "source": [
    "# Import other prepared data\n",
    "\n",
    "df_orders_products_merged = pd.read_pickle(os.path.join(path_prep, 'orders_products_merged_4-8Tsk.pkl'))"
   ]
  },
  {
   "cell_type": "code",
   "execution_count": 27,
   "id": "04fb72b1",
   "metadata": {},
   "outputs": [
    {
     "data": {
      "text/html": [
       "<div>\n",
       "<style scoped>\n",
       "    .dataframe tbody tr th:only-of-type {\n",
       "        vertical-align: middle;\n",
       "    }\n",
       "\n",
       "    .dataframe tbody tr th {\n",
       "        vertical-align: top;\n",
       "    }\n",
       "\n",
       "    .dataframe thead th {\n",
       "        text-align: right;\n",
       "    }\n",
       "</style>\n",
       "<table border=\"1\" class=\"dataframe\">\n",
       "  <thead>\n",
       "    <tr style=\"text-align: right;\">\n",
       "      <th></th>\n",
       "      <th>user_id</th>\n",
       "      <th>first_name</th>\n",
       "      <th>last_name</th>\n",
       "      <th>gender</th>\n",
       "      <th>state</th>\n",
       "      <th>age</th>\n",
       "      <th>date_joined</th>\n",
       "      <th>number_of_dependents</th>\n",
       "      <th>family_status</th>\n",
       "      <th>income</th>\n",
       "    </tr>\n",
       "  </thead>\n",
       "  <tbody>\n",
       "  </tbody>\n",
       "</table>\n",
       "</div>"
      ],
      "text/plain": [
       "Empty DataFrame\n",
       "Columns: [user_id, first_name, last_name, gender, state, age, date_joined, number_of_dependents, family_status, income]\n",
       "Index: []"
      ]
     },
     "execution_count": 27,
     "metadata": {},
     "output_type": "execute_result"
    }
   ],
   "source": [
    "df_customers_clean.head(0)"
   ]
  },
  {
   "cell_type": "code",
   "execution_count": 28,
   "id": "aab663d9",
   "metadata": {},
   "outputs": [
    {
     "data": {
      "text/html": [
       "<div>\n",
       "<style scoped>\n",
       "    .dataframe tbody tr th:only-of-type {\n",
       "        vertical-align: middle;\n",
       "    }\n",
       "\n",
       "    .dataframe tbody tr th {\n",
       "        vertical-align: top;\n",
       "    }\n",
       "\n",
       "    .dataframe thead th {\n",
       "        text-align: right;\n",
       "    }\n",
       "</style>\n",
       "<table border=\"1\" class=\"dataframe\">\n",
       "  <thead>\n",
       "    <tr style=\"text-align: right;\">\n",
       "      <th></th>\n",
       "      <th>order_id</th>\n",
       "      <th>user_id</th>\n",
       "      <th>order_number</th>\n",
       "      <th>orders_day_of_week</th>\n",
       "      <th>hour_order_was_placed</th>\n",
       "      <th>days_since_prior_order</th>\n",
       "      <th>product_id</th>\n",
       "      <th>add_to_cart_order</th>\n",
       "      <th>reordered</th>\n",
       "      <th>product_name</th>\n",
       "      <th>...</th>\n",
       "      <th>prices</th>\n",
       "      <th>price_range_loc</th>\n",
       "      <th>busiest_days</th>\n",
       "      <th>busiest_period_of_day</th>\n",
       "      <th>max_order</th>\n",
       "      <th>loyalty_flag</th>\n",
       "      <th>avg_spent</th>\n",
       "      <th>spending_flag</th>\n",
       "      <th>order_freq</th>\n",
       "      <th>order_freq_flag</th>\n",
       "    </tr>\n",
       "  </thead>\n",
       "  <tbody>\n",
       "  </tbody>\n",
       "</table>\n",
       "<p>0 rows × 21 columns</p>\n",
       "</div>"
      ],
      "text/plain": [
       "Empty DataFrame\n",
       "Columns: [order_id, user_id, order_number, orders_day_of_week, hour_order_was_placed, days_since_prior_order, product_id, add_to_cart_order, reordered, product_name, department_id, prices, price_range_loc, busiest_days, busiest_period_of_day, max_order, loyalty_flag, avg_spent, spending_flag, order_freq, order_freq_flag]\n",
       "Index: []\n",
       "\n",
       "[0 rows x 21 columns]"
      ]
     },
     "execution_count": 28,
     "metadata": {},
     "output_type": "execute_result"
    }
   ],
   "source": [
    "df_orders_products_merged.head(0)"
   ]
  },
  {
   "cell_type": "code",
   "execution_count": 29,
   "id": "d4755b8d",
   "metadata": {},
   "outputs": [],
   "source": [
    "#  Merge the two data sets on the user_id column and generate the _merge column\n",
    "\n",
    "df_instacart_merged = df_orders_products_merged.merge(df_customers_clean, on = 'user_id', indicator = True)"
   ]
  },
  {
   "cell_type": "code",
   "execution_count": null,
   "id": "5d3a2183",
   "metadata": {},
   "outputs": [],
   "source": []
  },
  {
   "cell_type": "code",
   "execution_count": 30,
   "id": "d9b77d19",
   "metadata": {},
   "outputs": [
    {
     "data": {
      "text/plain": [
       "(32404859, 31)"
      ]
     },
     "execution_count": 30,
     "metadata": {},
     "output_type": "execute_result"
    }
   ],
   "source": [
    "df_instacart_merged.shape"
   ]
  },
  {
   "cell_type": "code",
   "execution_count": 31,
   "id": "ee44483f",
   "metadata": {},
   "outputs": [
    {
     "data": {
      "text/html": [
       "<div>\n",
       "<style scoped>\n",
       "    .dataframe tbody tr th:only-of-type {\n",
       "        vertical-align: middle;\n",
       "    }\n",
       "\n",
       "    .dataframe tbody tr th {\n",
       "        vertical-align: top;\n",
       "    }\n",
       "\n",
       "    .dataframe thead th {\n",
       "        text-align: right;\n",
       "    }\n",
       "</style>\n",
       "<table border=\"1\" class=\"dataframe\">\n",
       "  <thead>\n",
       "    <tr style=\"text-align: right;\">\n",
       "      <th></th>\n",
       "      <th>order_id</th>\n",
       "      <th>user_id</th>\n",
       "      <th>order_number</th>\n",
       "      <th>orders_day_of_week</th>\n",
       "      <th>hour_order_was_placed</th>\n",
       "      <th>days_since_prior_order</th>\n",
       "      <th>product_id</th>\n",
       "      <th>add_to_cart_order</th>\n",
       "      <th>reordered</th>\n",
       "      <th>product_name</th>\n",
       "      <th>...</th>\n",
       "      <th>first_name</th>\n",
       "      <th>last_name</th>\n",
       "      <th>gender</th>\n",
       "      <th>state</th>\n",
       "      <th>age</th>\n",
       "      <th>date_joined</th>\n",
       "      <th>number_of_dependents</th>\n",
       "      <th>family_status</th>\n",
       "      <th>income</th>\n",
       "      <th>_merge</th>\n",
       "    </tr>\n",
       "  </thead>\n",
       "  <tbody>\n",
       "    <tr>\n",
       "      <th>0</th>\n",
       "      <td>2539329</td>\n",
       "      <td>1</td>\n",
       "      <td>1</td>\n",
       "      <td>2</td>\n",
       "      <td>8</td>\n",
       "      <td>NaN</td>\n",
       "      <td>196</td>\n",
       "      <td>1</td>\n",
       "      <td>0</td>\n",
       "      <td>Soda</td>\n",
       "      <td>...</td>\n",
       "      <td>Linda</td>\n",
       "      <td>Nguyen</td>\n",
       "      <td>Female</td>\n",
       "      <td>Alabama</td>\n",
       "      <td>31</td>\n",
       "      <td>2019-02-17</td>\n",
       "      <td>3</td>\n",
       "      <td>married</td>\n",
       "      <td>40423.0</td>\n",
       "      <td>both</td>\n",
       "    </tr>\n",
       "    <tr>\n",
       "      <th>1</th>\n",
       "      <td>2398795</td>\n",
       "      <td>1</td>\n",
       "      <td>2</td>\n",
       "      <td>3</td>\n",
       "      <td>7</td>\n",
       "      <td>15.0</td>\n",
       "      <td>196</td>\n",
       "      <td>1</td>\n",
       "      <td>1</td>\n",
       "      <td>Soda</td>\n",
       "      <td>...</td>\n",
       "      <td>Linda</td>\n",
       "      <td>Nguyen</td>\n",
       "      <td>Female</td>\n",
       "      <td>Alabama</td>\n",
       "      <td>31</td>\n",
       "      <td>2019-02-17</td>\n",
       "      <td>3</td>\n",
       "      <td>married</td>\n",
       "      <td>40423.0</td>\n",
       "      <td>both</td>\n",
       "    </tr>\n",
       "    <tr>\n",
       "      <th>2</th>\n",
       "      <td>473747</td>\n",
       "      <td>1</td>\n",
       "      <td>3</td>\n",
       "      <td>3</td>\n",
       "      <td>12</td>\n",
       "      <td>21.0</td>\n",
       "      <td>196</td>\n",
       "      <td>1</td>\n",
       "      <td>1</td>\n",
       "      <td>Soda</td>\n",
       "      <td>...</td>\n",
       "      <td>Linda</td>\n",
       "      <td>Nguyen</td>\n",
       "      <td>Female</td>\n",
       "      <td>Alabama</td>\n",
       "      <td>31</td>\n",
       "      <td>2019-02-17</td>\n",
       "      <td>3</td>\n",
       "      <td>married</td>\n",
       "      <td>40423.0</td>\n",
       "      <td>both</td>\n",
       "    </tr>\n",
       "    <tr>\n",
       "      <th>3</th>\n",
       "      <td>2254736</td>\n",
       "      <td>1</td>\n",
       "      <td>4</td>\n",
       "      <td>4</td>\n",
       "      <td>7</td>\n",
       "      <td>29.0</td>\n",
       "      <td>196</td>\n",
       "      <td>1</td>\n",
       "      <td>1</td>\n",
       "      <td>Soda</td>\n",
       "      <td>...</td>\n",
       "      <td>Linda</td>\n",
       "      <td>Nguyen</td>\n",
       "      <td>Female</td>\n",
       "      <td>Alabama</td>\n",
       "      <td>31</td>\n",
       "      <td>2019-02-17</td>\n",
       "      <td>3</td>\n",
       "      <td>married</td>\n",
       "      <td>40423.0</td>\n",
       "      <td>both</td>\n",
       "    </tr>\n",
       "    <tr>\n",
       "      <th>4</th>\n",
       "      <td>431534</td>\n",
       "      <td>1</td>\n",
       "      <td>5</td>\n",
       "      <td>4</td>\n",
       "      <td>15</td>\n",
       "      <td>28.0</td>\n",
       "      <td>196</td>\n",
       "      <td>1</td>\n",
       "      <td>1</td>\n",
       "      <td>Soda</td>\n",
       "      <td>...</td>\n",
       "      <td>Linda</td>\n",
       "      <td>Nguyen</td>\n",
       "      <td>Female</td>\n",
       "      <td>Alabama</td>\n",
       "      <td>31</td>\n",
       "      <td>2019-02-17</td>\n",
       "      <td>3</td>\n",
       "      <td>married</td>\n",
       "      <td>40423.0</td>\n",
       "      <td>both</td>\n",
       "    </tr>\n",
       "  </tbody>\n",
       "</table>\n",
       "<p>5 rows × 31 columns</p>\n",
       "</div>"
      ],
      "text/plain": [
       "   order_id  user_id  order_number  orders_day_of_week  hour_order_was_placed  \\\n",
       "0   2539329        1             1                   2                      8   \n",
       "1   2398795        1             2                   3                      7   \n",
       "2    473747        1             3                   3                     12   \n",
       "3   2254736        1             4                   4                      7   \n",
       "4    431534        1             5                   4                     15   \n",
       "\n",
       "   days_since_prior_order  product_id  add_to_cart_order  reordered  \\\n",
       "0                     NaN         196                  1          0   \n",
       "1                    15.0         196                  1          1   \n",
       "2                    21.0         196                  1          1   \n",
       "3                    29.0         196                  1          1   \n",
       "4                    28.0         196                  1          1   \n",
       "\n",
       "  product_name  ...  first_name  last_name  gender    state age  date_joined  \\\n",
       "0         Soda  ...       Linda     Nguyen  Female  Alabama  31   2019-02-17   \n",
       "1         Soda  ...       Linda     Nguyen  Female  Alabama  31   2019-02-17   \n",
       "2         Soda  ...       Linda     Nguyen  Female  Alabama  31   2019-02-17   \n",
       "3         Soda  ...       Linda     Nguyen  Female  Alabama  31   2019-02-17   \n",
       "4         Soda  ...       Linda     Nguyen  Female  Alabama  31   2019-02-17   \n",
       "\n",
       "  number_of_dependents  family_status   income  _merge  \n",
       "0                    3        married  40423.0    both  \n",
       "1                    3        married  40423.0    both  \n",
       "2                    3        married  40423.0    both  \n",
       "3                    3        married  40423.0    both  \n",
       "4                    3        married  40423.0    both  \n",
       "\n",
       "[5 rows x 31 columns]"
      ]
     },
     "execution_count": 31,
     "metadata": {},
     "output_type": "execute_result"
    }
   ],
   "source": [
    "df_instacart_merged.head()"
   ]
  },
  {
   "cell_type": "code",
   "execution_count": 32,
   "id": "f544471b",
   "metadata": {},
   "outputs": [
    {
     "data": {
      "text/plain": [
       "both          32404859\n",
       "left_only            0\n",
       "right_only           0\n",
       "Name: _merge, dtype: int64"
      ]
     },
     "execution_count": 32,
     "metadata": {},
     "output_type": "execute_result"
    }
   ],
   "source": [
    "#  For the inner join of these two data frames, each row has entries from both data frames\n",
    "\n",
    "df_instacart_merged['_merge'].value_counts()"
   ]
  },
  {
   "cell_type": "code",
   "execution_count": 33,
   "id": "141dfd66",
   "metadata": {},
   "outputs": [],
   "source": [
    "# Drop the _merge column from the df\n",
    "\n",
    "instacart_merged = df_instacart_merged.drop(columns=['_merge'])"
   ]
  },
  {
   "cell_type": "code",
   "execution_count": 34,
   "id": "7a11662f",
   "metadata": {},
   "outputs": [
    {
     "data": {
      "text/plain": [
       "(32404859, 30)"
      ]
     },
     "execution_count": 34,
     "metadata": {},
     "output_type": "execute_result"
    }
   ],
   "source": [
    "instacart_merged.shape"
   ]
  },
  {
   "cell_type": "code",
   "execution_count": 35,
   "id": "6d642341",
   "metadata": {},
   "outputs": [],
   "source": [
    "#  Export instacart_merged to Prepared folder in .pkl format  \n",
    "\n",
    "instacart_merged.to_pickle(os.path.join(path_prep, 'instacart_merged_4-9.pkl'))"
   ]
  },
  {
   "cell_type": "code",
   "execution_count": null,
   "id": "e21e7ee1",
   "metadata": {},
   "outputs": [],
   "source": []
  }
 ],
 "metadata": {
  "kernelspec": {
   "display_name": "Python 3 (ipykernel)",
   "language": "python",
   "name": "python3"
  },
  "language_info": {
   "codemirror_mode": {
    "name": "ipython",
    "version": 3
   },
   "file_extension": ".py",
   "mimetype": "text/x-python",
   "name": "python",
   "nbconvert_exporter": "python",
   "pygments_lexer": "ipython3",
   "version": "3.9.13"
  }
 },
 "nbformat": 4,
 "nbformat_minor": 5
}
